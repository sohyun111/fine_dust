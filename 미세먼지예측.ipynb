{
  "nbformat": 4,
  "nbformat_minor": 0,
  "metadata": {
    "colab": {
      "private_outputs": true,
      "provenance": [],
      "include_colab_link": true
    },
    "kernelspec": {
      "name": "python3",
      "display_name": "Python 3"
    },
    "language_info": {
      "name": "python"
    }
  },
  "cells": [
    {
      "cell_type": "markdown",
      "metadata": {
        "id": "view-in-github",
        "colab_type": "text"
      },
      "source": [
        "<a href=\"https://colab.research.google.com/github/sohyun111/fine_dust/blob/main/%EB%AF%B8%EC%84%B8%EB%A8%BC%EC%A7%80%EC%98%88%EC%B8%A1.ipynb\" target=\"_parent\"><img src=\"https://colab.research.google.com/assets/colab-badge.svg\" alt=\"Open In Colab\"/></a>"
      ]
    },
    {
      "cell_type": "code",
      "metadata": {
        "id": "Pdc9UIAjcSuP"
      },
      "source": [
        "from google.colab import drive\n",
        "drive.mount('/content/drive')"
      ],
      "execution_count": null,
      "outputs": []
    },
    {
      "cell_type": "code",
      "source": [
        "f = open('/content/drive/MyDrive/인공지능과제/서울미세먼지.csv','r')"
      ],
      "metadata": {
        "id": "FfxoR7DECmj_"
      },
      "execution_count": null,
      "outputs": []
    },
    {
      "cell_type": "code",
      "metadata": {
        "id": "GSqHtNJGffTF"
      },
      "source": [
        "!ls -al\n",
        "!pwd"
      ],
      "execution_count": null,
      "outputs": []
    },
    {
      "cell_type": "code",
      "metadata": {
        "id": "0MjHod6BflI3"
      },
      "source": [
        "import numpy as np\n",
        "import pandas as pd\n",
        "\n",
        "%matplotlib inline\n",
        "import matplotlib.pyplot as plt\n",
        "\n",
        "\n",
        "dust_data = pd.read_csv(f,header=0)\n",
        "seq = dust_data[['SEOUL']].to_numpy()\n",
        "data_length = len(seq)\n",
        "print('data length:', data_length)\n",
        "print('The first 20 data:\\n', seq[:20])\n",
        "\n",
        "plt.figure(figsize=(20,10))\n",
        "plt.plot(seq[:,0],color='red')\n",
        "plt.title('Fine Dust in SEOUL (2010.01 - 2023.02)')\n",
        "plt.xlabel('Days')\n",
        "plt.ylabel('Fine Dust')\n",
        "plt.show()"
      ],
      "execution_count": null,
      "outputs": []
    },
    {
      "cell_type": "code",
      "metadata": {
        "id": "gRBmcm0oMg8V"
      },
      "source": [
        "import numpy as np\n",
        "\n",
        "def seq2dataset(seq, window, horizon):\n",
        "  X=[]\n",
        "  Y=[]\n",
        "  for i in range(len(seq)-(window + horizon) + 1):\n",
        "    x = seq[i:(i + window)]\n",
        "    y = (seq[i + window + horizon - 1])\n",
        "    X.append(x); Y.append(y)\n",
        "\n",
        "  return np.array(X), np.array(Y)\n",
        "w = 1\n",
        "h = 1\n",
        "\n",
        "X, Y = seq2dataset(seq,w,h)\n",
        "print(X.shape, Y.shape)\n",
        "print(X[0], Y[0])"
      ],
      "execution_count": null,
      "outputs": []
    },
    {
      "cell_type": "code",
      "metadata": {
        "id": "iTZQU8RDOSg_"
      },
      "source": [
        "split_train = int(len(X)*0.7)\n",
        "split_valid = int(len(X)*0.9)\n",
        "\n",
        "X_train = X[:split_train, :, [0]]; y_train=Y[:split_train, [0]]\n",
        "\n",
        "X_valid = X[split_train:split_valid,:, [0]]; y_valid=Y[split_train:split_valid,[0]]\n",
        "\n",
        "X_test = X[split_valid:,:, [0]]; y_test=Y[split_valid:,[0]]\n",
        "\n",
        "print(X_train.shape, y_train.shape)\n",
        "print(X_valid.shape, y_valid.shape)\n",
        "print(X_test.shape, y_test.shape)"
      ],
      "execution_count": null,
      "outputs": []
    },
    {
      "cell_type": "code",
      "metadata": {
        "id": "zNgzvRzEwgHj"
      },
      "source": [
        "import tensorflow as tf\n",
        "from tensorflow import keras\n",
        "\n",
        "model = keras.models.Sequential([\n",
        "    keras.layers.Flatten(input_shape=[w, 1]),\n",
        "    keras.layers.Dense(1)\n",
        "])\n",
        "\n",
        "model.compile(loss=\"mse\", optimizer=\"adam\")\n",
        "history = model.fit(X_train, y_train, epochs=200,\n",
        "                    validation_data=(X_valid, y_valid))"
      ],
      "execution_count": null,
      "outputs": []
    },
    {
      "cell_type": "code",
      "metadata": {
        "id": "AfCDyjZDxn3P"
      },
      "source": [
        "import math\n",
        "eval = model.evaluate(X_test, y_test)\n",
        "\n",
        "math.sqrt(eval)"
      ],
      "execution_count": null,
      "outputs": []
    },
    {
      "cell_type": "code",
      "metadata": {
        "id": "9A5d4L-3xu2f"
      },
      "source": [
        "%matplotlib inline\n",
        "import matplotlib as mpl\n",
        "import matplotlib.pyplot as plt\n",
        "mpl.rc('axes', labelsize=14)\n",
        "mpl.rc('xtick', labelsize=12)\n",
        "mpl.rc('ytick', labelsize=12)\n",
        "\n",
        "def plot_learning_curves(loss, val_loss):\n",
        "    plt.plot(np.arange(len(loss)) + 0.5, loss, \"b.-\", label=\"Training loss\")\n",
        "    plt.plot(np.arange(len(val_loss)) + 1, val_loss, \"r.-\", label=\"Validation loss\")\n",
        "    plt.gca().xaxis.set_major_locator(mpl.ticker.MaxNLocator(integer=True))\n",
        "    plt.axis([1, 200, 100, 3000])\n",
        "    plt.legend(fontsize=14)\n",
        "    plt.xlabel(\"Epochs\")\n",
        "    plt.ylabel(\"Loss (MSE)\")\n",
        "    plt.grid(True)\n",
        "\n",
        "def plot_series(series, y=None, y_pred=None, x_label=\"$t$\", y_label=\"$x(t)$\"):\n",
        "    plt.plot(series, \".-\")\n",
        "    if y is not None:\n",
        "        plt.plot(n_steps, y, \"bx\", markersize=10)\n",
        "    if y_pred is not None:\n",
        "        plt.plot(n_steps, y_pred, \"ro\")\n",
        "    plt.grid(True)\n",
        "    if x_label:\n",
        "        plt.xlabel(x_label, fontsize=16)\n",
        "    if y_label:\n",
        "        plt.ylabel(y_label, fontsize=16, rotation=0)"
      ],
      "execution_count": null,
      "outputs": []
    },
    {
      "cell_type": "code",
      "metadata": {
        "id": "TUJCGxu2zM2f"
      },
      "source": [
        "plot_learning_curves(history.history[\"loss\"], history.history[\"val_loss\"])\n",
        "plt.show()"
      ],
      "execution_count": null,
      "outputs": []
    },
    {
      "cell_type": "code",
      "metadata": {
        "id": "zU4UrfRWyfQk"
      },
      "source": [
        "n_steps = 7\n",
        "\n",
        "print(X_valid.shape)\n",
        "y_pred = model.predict(X_valid)\n",
        "print(y_pred.shape)\n",
        "\n",
        "print(\"gt:\", y_valid[0])\n",
        "print(\"pred:\", y_pred[0])\n",
        "\n",
        "plot_series(X_valid[0, :, 0], y_valid[0, 0], y_pred[0, 0])\n",
        "plt.show()"
      ],
      "execution_count": null,
      "outputs": []
    },
    {
      "cell_type": "code",
      "metadata": {
        "id": "LV9425_dgS-1"
      },
      "source": [
        "import tensorflow as tf\n",
        "from tensorflow import keras\n",
        "\n",
        "model = keras.models.Sequential([\n",
        "    keras.layers.SimpleRNN(1, activation='relu', input_shape=[None, 1]),\n",
        "    keras.layers.Dense(1)\n",
        "])\n",
        "\n",
        "model.summary()\n",
        "\n",
        "optimizer = keras.optimizers.Adam(learning_rate=0.003)\n",
        "model.compile(loss=\"mse\", optimizer=optimizer)\n",
        "history = model.fit(X_train, y_train, epochs=200,\n",
        "                    validation_data=(X_valid, y_valid))"
      ],
      "execution_count": null,
      "outputs": []
    },
    {
      "cell_type": "code",
      "metadata": {
        "id": "DxSuisbe4s58"
      },
      "source": [
        "import math\n",
        "eval = model.evaluate(X_test, y_test)\n",
        "\n",
        "math.sqrt(eval)"
      ],
      "execution_count": null,
      "outputs": []
    },
    {
      "cell_type": "code",
      "metadata": {
        "id": "Yo7tG6th72Du"
      },
      "source": [
        "plot_learning_curves(history.history[\"loss\"], history.history[\"val_loss\"])\n",
        "plt.show()"
      ],
      "execution_count": null,
      "outputs": []
    },
    {
      "cell_type": "code",
      "metadata": {
        "id": "7ZEu12pGMri7"
      },
      "source": [
        "n_steps = 7\n",
        "\n",
        "print(X_valid.shape)\n",
        "y_pred = model.predict(X_valid)\n",
        "print(y_pred.shape)\n",
        "\n",
        "print(\"gt:\", y_valid[0])\n",
        "print(\"pred:\", y_pred[0])\n",
        "\n",
        "plot_series(X_valid[0, :, 0], y_valid[0, 0], y_pred[0, 0])\n",
        "plt.show()"
      ],
      "execution_count": null,
      "outputs": []
    }
  ]
}